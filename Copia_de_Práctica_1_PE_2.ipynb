{
  "cells": [
    {
      "cell_type": "markdown",
      "metadata": {
        "id": "view-in-github",
        "colab_type": "text"
      },
      "source": [
        "<a href=\"https://colab.research.google.com/github/StefannyEscobar/Markov-Chain-MH/blob/main/Copia_de_Pr%C3%A1ctica_1_PE_2.ipynb\" target=\"_parent\"><img src=\"https://colab.research.google.com/assets/colab-badge.svg\" alt=\"Open In Colab\"/></a>"
      ]
    },
    {
      "cell_type": "markdown",
      "metadata": {
        "id": "9MHE-G4UjDpE"
      },
      "source": [
        "**Integrantes**\n",
        "\n",
        "Julieth Stefanny Escobar Ramírez y Sara Gallego Villada"
      ]
    },
    {
      "cell_type": "code",
      "execution_count": null,
      "metadata": {
        "id": "ziNoNuHdshhe"
      },
      "outputs": [],
      "source": [
        "import pandas as pd\n",
        "import numpy as np\n",
        "import matplotlib.pyplot as plt\n",
        "import random\n",
        "import imageio as imageio\n",
        "import io\n",
        "import scipy.stats as stats\n",
        "import scipy\n",
        "from scipy.stats import expon\n",
        "from scipy.stats import probplot"
      ]
    },
    {
      "cell_type": "markdown",
      "metadata": {
        "id": "NciJELF7soYN"
      },
      "source": [
        "**Class Movimiento browniano**\n",
        "\n",
        "Referencias usadas para crear la clase:\n",
        "\n",
        "https://rpubs.com/Charly_SC/Derivados01\n",
        "\n",
        "https://github.com/abdielgv162/Estadistica_Computacional/blob/master/programacion_dinamica_fib.py\n",
        "\n",
        "https://github.com/strzecha/Brownian-Motion/blob/main/brownian/simulation.py\n"
      ]
    },
    {
      "cell_type": "code",
      "execution_count": null,
      "metadata": {
        "id": "lmd5xXWLs3sF"
      },
      "outputs": [],
      "source": [
        "#SE DEFINE UNA CLASE DEL MOVIMIENTO BROWNIANO ESTANDAR: ASI SE HEREDA EN LOS OTROS 4 MOVIMIENTOS QUE SE DEBEN SIMULAR.\n",
        "class MovimientoBrownianoBasico:\n",
        "    def __init__(self, cantidad_trayectorias, cantidad_puntos, duracion):\n",
        "        # Genera un color aleatorio para representar gráficamente esta instancia\n",
        "        self.color_hex = self._generar_color_aleatorio()\n",
        "        self.descripcion = 'Movimiento Browniano Básico'\n",
        "        self.cantidad_trayectorias = cantidad_trayectorias\n",
        "        self.cantidad_puntos = cantidad_puntos\n",
        "        self.duracion = duracion\n",
        "        self.delta_tiempo = duracion / cantidad_puntos\n",
        "        self.eje_tiempo = np.linspace(0, duracion, cantidad_puntos)\n",
        "        # Inicializa las trayectorias del movimiento browniano\n",
        "        self.delta_W = np.random.normal(scale=np.sqrt(self.delta_tiempo), size=(cantidad_trayectorias, cantidad_puntos))\n",
        "        # Calcula las posiciones acumulativas para obtener el camino del movimiento browniano\n",
        "        self.posiciones = np.cumsum(self.delta_W, axis=1)\n",
        "        self.incrementos_finales = self.posiciones[:, -1] - self.posiciones[:, -2]\n",
        "\n",
        "    def _generar_color_aleatorio(self):\n",
        "        # Genera un código de color HEX aleatorio\n",
        "        return '#{:02x}{:02x}{:02x}'.format(*(random.randint(100, 200) for _ in range(3)))\n",
        "\n",
        "    def analizar_distribucion_incrementos(self):\n",
        "        # Análisis de los incrementos para verificar la normalidad y la independencia\n",
        "        N = self.cantidad_puntos - 100\n",
        "        for indice in range(1, N):\n",
        "            diferencias = self.posiciones[:, indice] - self.posiciones[:, indice-1]\n",
        "            if indice % 5 == 0:\n",
        "                print(f'Incremento {indice}: Media = {np.mean(diferencias):.5f}, Desviación Estándar = {np.std(diferencias):.5f}')\n",
        "\n",
        "        # Visualización de la distribución de los últimos incrementos analizados\n",
        "        plt.hist(diferencias, bins=30, density=True)\n",
        "        plt.xlabel('Diferencia')\n",
        "        plt.ylabel('Frecuencia Normalizada')\n",
        "        plt.title(f'Distribución de Diferencias en {self.descripcion}')\n",
        "        plt.show()\n",
        "\n",
        "    def calcular_varianza_empirica_y_graficar(self, mostrar=True):\n",
        "        # Este método calcula la varianza de las trayectorias simuladas en cada punto temporal\n",
        "        # y luego grafica estos valores de varianza a lo largo del tiempo.\n",
        "        varianza_empirica = np.var(self.posiciones, axis=0, ddof=1)\n",
        "        puntos_temporales = np.arange(self.cantidad_puntos) * self.delta_tiempo\n",
        "        # Preparación y visualización del gráfico\n",
        "        plt.plot(puntos_temporales, varianza_empirica, color=self.color_hex)\n",
        "        plt.xlabel('Tiempo')\n",
        "        plt.ylabel('Varianza Empírica')\n",
        "        plt.title(f'Varianza Empírica a lo Largo del Tiempo en {self.descripcion}')\n",
        "        # Guardado de la gráfica en un temp para uso opcional fuera de la visualización directa\n",
        "        temp_grafico = io.BytesIO()\n",
        "        plt.savefig(temp_grafico, format='png')\n",
        "        temp_grafico.seek(0)  # Regresamos al inicio del temp para futuras lecturas\n",
        "        # Mostrar la gráfica si el parámetro 'mostrar' es True\n",
        "        if mostrar:\n",
        "            plt.show()\n",
        "        # Devolver la varianza empírica calculada y el temp del gráfico para usos adicionales\n",
        "        return varianza_empirica, temp_grafico\n",
        "    def visualizar_covarianza_empirica(self, en_3d=False, mostrar=True):\n",
        "        # Cálculo de la matriz de covarianza de las trayectorias simuladas\n",
        "        matriz_covarianza = np.cov(self.posiciones, rowvar=False, ddof=1)\n",
        "\n",
        "        # Visualización en 3D si se solicita\n",
        "        if en_3d:\n",
        "            figura = plt.figure()\n",
        "            eje = figura.add_subplot(111, projection='3d')\n",
        "            x, y = np.meshgrid(np.arange(self.cantidad_puntos), np.arange(self.cantidad_puntos))\n",
        "            eje.plot_surface(x, y, matriz_covarianza)\n",
        "            eje.set_xlabel('Tiempo T')\n",
        "            eje.set_ylabel('Tiempo S')\n",
        "            eje.set_zlabel('Covarianza')\n",
        "            eje.set_title(f'Covarianza Empírica en {self.descripcion}')\n",
        "        else:\n",
        "            # Visualización en 2D de la matriz de covarianza\n",
        "            plt.imshow(matriz_covarianza, cmap='viridis')\n",
        "            plt.colorbar()\n",
        "            plt.title(f'Matriz de Covarianza Empírica en {self.descripcion}')\n",
        "\n",
        "        # Guardado de la figura en un temp para uso opcional\n",
        "        temp_figura = io.BytesIO()\n",
        "        plt.savefig(temp_figura, format='png')\n",
        "        temp_figura.seek(0)  # Regresamos al inicio del temp\n",
        "\n",
        "        # Mostrar la figura si así se desea\n",
        "        if mostrar:\n",
        "            plt.show()\n",
        "        return matriz_covarianza, temp_figura\n",
        "    def visualizar_corr_empirica(self, en_3d=False, mostrar=True):\n",
        "        # Cálculo de la matriz de covarianza de las trayectorias simuladas\n",
        "        matriz_corr = np.corrcoef(self.posiciones, rowvar=False, ddof=1)\n",
        "\n",
        "        # Visualización en 3D si se solicita\n",
        "        if en_3d:\n",
        "            figura = plt.figure()\n",
        "            eje = figura.add_subplot(111, projection='3d')\n",
        "            x, y = np.meshgrid(np.arange(self.cantidad_puntos), np.arange(self.cantidad_puntos))\n",
        "            eje.plot_surface(x, y, matriz_corr)\n",
        "            eje.set_xlabel('Tiempo T')\n",
        "            eje.set_ylabel('Tiempo S')\n",
        "            eje.set_zlabel('Covarianza')\n",
        "            eje.set_title(f'Correlación Empírica en {self.descripcion}')\n",
        "        else:\n",
        "            # Visualización en 2D de la matriz de covarianza\n",
        "            plt.imshow(matriz_corr, cmap='viridis')\n",
        "            plt.colorbar()\n",
        "            plt.title(f'Matriz de Correlación Empírica en {self.descripcion}')\n",
        "\n",
        "        # Guardado de la figura en un temp para uso opcional\n",
        "        temp_figura = io.BytesIO()\n",
        "        plt.savefig(temp_figura, format='png')\n",
        "        temp_figura.seek(0)  # Regresamos al inicio del temp\n",
        "\n",
        "        # Mostrar la figura si así se desea\n",
        "        if mostrar:\n",
        "            plt.show()\n",
        "        return matriz_corr, temp_figura\n",
        "\n",
        "\n",
        "    def valor_esperado_empirico(self, interval = False, show = True):\n",
        "        if interval:\n",
        "            self.cantidad_puntos = self.cantidad_puntos - 1\n",
        "        # Calculo del valor esperado empirico del movimiento\n",
        "        valor_esperado = np.mean(self.posiciones, axis=0)\n",
        "        plt.plot(np.arange(self.cantidad_puntos)*self.delta_tiempo, valor_esperado,color=self.color_hex)\n",
        "        plt.xlabel('Tiempo')\n",
        "        plt.ylabel('Valor Esperado')\n",
        "        plt.title(f'Valor Esperado Empirico del {self.descripcion}')\n",
        "        temp = io.BytesIO()\n",
        "        plt.savefig(temp , format='png')\n",
        "        if show:\n",
        "            plt.show()\n",
        "        return valor_esperado, temp"
      ]
    },
    {
      "cell_type": "markdown",
      "metadata": {
        "id": "sTmReNFfskml"
      },
      "source": [
        "# Punto 1\n",
        "La expresión del valor esperado $E\\left[e^{2B_t^2}\\right]$ se define como:\n",
        "\n",
        "$$E\\left[e^{2B_t^2}\\right] =\n",
        "\\begin{cases}\n",
        "  (1 - 4t)^{-\\frac{1}{2}}, & \\text{si } 0 \\leq t \\leq \\frac{1}{4} \\\\\n",
        "  \\infty, & \\text{en otro caso}\n",
        "\\end{cases}\n",
        "$$\n",
        "\n",
        "donde $\\{B_t\\}_{t \\geq 0}$ es un Movimiento Browniano Estándar.\n"
      ]
    },
    {
      "cell_type": "code",
      "execution_count": null,
      "metadata": {
        "id": "VQLdzCyi77jc"
      },
      "outputs": [],
      "source": [
        "class BrownianoEsperado(MovimientoBrownianoBasico):\n",
        "    def aplicar_transformacion(self):\n",
        "        self.descripcion = 'Valor esperado $E[e^{2B_t^2}]$'\n",
        "        # Nota: No transponemos aquí para mantener las dimensiones alineadas.\n",
        "        self.posiciones = np.exp(2 * self.posiciones**2)\n",
        "\n",
        "    def valor_esperado_empirico(self):\n",
        "        # Calcula el valor esperado empírico a lo largo de la dimensión de trayectorias\n",
        "        return np.mean(self.posiciones, axis=0)\n",
        "\n",
        "def theoretical_expectation(t):\n",
        "    return np.where(t <= 0.25, np.power(1 - 4*t, -0.5), np.inf)\n",
        "\n",
        "e_sim = BrownianoEsperado(10000, 500, 1)\n",
        "e_sim.aplicar_transformacion()\n",
        "expectation_simulated = e_sim.valor_esperado_empirico()\n",
        "expectation_theoretical = theoretical_expectation(e_sim.eje_tiempo)\n",
        "\n",
        "# Ajustamos para empezar desde el primer punto temporal para evitar la división por cero o valores infinitos\n",
        "plt.figure(figsize=(10, 6))\n",
        "plt.plot(e_sim.eje_tiempo, expectation_simulated, label='Simulación', marker='o')\n",
        "plt.plot(e_sim.eje_tiempo, expectation_theoretical, label='Teórico', linestyle='--')\n",
        "plt.xlabel('t')\n",
        "plt.ylabel('$E[e^{2B_t^2}]$')\n",
        "plt.title('Comparación entre Simulación y Teoría de $E[e^{2B_t^2}]$')\n",
        "plt.legend()\n",
        "plt.ylim(0, 10)\n",
        "plt.show()"
      ]
    },
    {
      "cell_type": "markdown",
      "metadata": {
        "id": "tG9jiAy4AnT5"
      },
      "source": [
        "Para concluir sobre los resultados obtenidos en la simulación computacional que demuestra\n",
        "\n",
        "1. **Aproximación a la Expectativa Teórica**: Los resultados como se ve en la imagen se aproximan a la función teórica $(1 - 4t)^{-\\frac{1}{2}}$ para $0 \\leq t \\leq \\frac{1}{4}$ y tienden a infinito fuera de este intervalo, esto sugiere que la simulación es consistente con la teoría matemática detrás del Movimiento Browniano Estándar. La concordancia entre los resultados simulados y los teóricos valida la relación expresada y su dependencia temporal.\n",
        "\n",
        "2. **Importancia del Intervalo $0 \\leq t \\leq \\frac{1}{4}$**: La especificidad del intervalo $0 \\leq t \\leq \\frac{1}{4}$ es crucial, ya que demuestra cómo el comportamiento del valor esperado cambia dramáticamente más allá de este punto, reflejando las propiedades únicas del Movimiento Browniano Estándar y la exponencial de su cuadrado.\n",
        "\n",
        "3. **Observaciones sobre la Convergencia a Infinito**: El hecho de que el valor esperado tienda a infinito fuera del intervalo dado subraya la naturaleza explosiva de la exponencial de procesos estocásticos cuadráticos. Esto resalta la importancia de entender las condiciones bajo las cuales se evalúan las expectativas de tales funciones.\n",
        "\n",
        "4. **Implicaciones y Aplicaciones**: La confirmación de esta relación a través de simulaciones no solo refuerza la comprensión teórica del comportamiento de los procesos estocásticos, sino que también demuestra la potencia de las simulaciones computacionales para explorar y verificar propiedades matemáticas complejas que pueden ser difíciles de visualizar o probar analíticamente.\n",
        "\n",
        "5. **Limitaciones y Consideraciones Futuras**: Aunque las simulaciones ofrecen una poderosa herramienta para la validación teórica, es importante tener en cuenta las limitaciones inherentes a este enfoque, como la precisión numérica y el tamaño de la muestra. Experimentos futuros podrían explorar diferentes parámetros de simulación, tamaños de muestra más grandes o técnicas computacionales avanzadas para mejorar la precisión y la robustez de las conclusiones.\n"
      ]
    },
    {
      "cell_type": "markdown",
      "metadata": {
        "id": "98UAY17mwsJr"
      },
      "source": [
        "# Punto 2\n",
        "Considera los siguientes procesos estocásticos:\n",
        "\n",
        "\n",
        "\n",
        "*   Movimiento Browniano Geométrico\n",
        "*   Movimiento Browniano Bridge\n",
        "*   $W_t = B_{3t} - e^{\\sigma  B_{t}}$ con $\\{B_t\\}$  $t≥0$ un Movimiento Browniano Estándar y σ ∈ $\\mathbb{R}$.\n",
        "\n",
        "A partir de ellos y a través de simulación computacional,  \n",
        "**a)** Obtén las propiedades distribucionales teóricas, esto es, el valor esperado, la varianza, la covarianza y su correlación.  \n",
        "**b)** Simula trayectorias para 500 puntos del tiempo igualmente espaciados y obtén las medidas de centralidad, varianza, covarianza y correlación empíricas.  \n",
        "**c)** Contrasta las propiedades distribucionales teóricas y empíricas de los puntos anteriores. ¿Con qué número de trayectorias se logra la convergencia?  \n",
        "**d)** Analiza su distribución.  \n",
        "**e**) ¿Son Movimientos Brownianos Estándar?\n",
        "\n",
        "\n",
        "\n",
        "\n",
        "\n"
      ]
    },
    {
      "cell_type": "markdown",
      "metadata": {
        "id": "n9fw_U45Cpoj"
      },
      "source": [
        "## Punto a\n",
        "\n",
        "Dsiponible en el pdf"
      ]
    },
    {
      "cell_type": "markdown",
      "metadata": {
        "id": "PloywXfzim_-"
      },
      "source": [
        "## **Punto b y c**\n",
        "Obtén las propiedades distribucionales teóricas, esto es, el valor esperado, la varianza, la covarianza y su correlación\n",
        "\n",
        "Contraste teóricas y empíricas:\n",
        "\n",
        "**Primero haremos el punto b y c del geométrico:**"
      ]
    },
    {
      "cell_type": "markdown",
      "metadata": {
        "id": "I8p-uv1J_wc8"
      },
      "source": [
        "# **Geométrico**\n",
        "**PUNTO B**\n",
        "\n",
        "\n",
        "Simulamos trayectorias y gráficamos:"
      ]
    },
    {
      "cell_type": "code",
      "execution_count": null,
      "metadata": {
        "id": "rTyYh0fYx3xZ"
      },
      "outputs": [],
      "source": [
        "class BrownianoGeometrico(MovimientoBrownianoBasico):\n",
        "    def __init__(self, cantidad_trayectorias, cantidad_puntos, duracion):\n",
        "        super().__init__(cantidad_trayectorias, cantidad_puntos, duracion)\n",
        "\n",
        "    def aplicar_transformacion_geometrica(self, alpha, lambda_):\n",
        "        # Actualiza la descripción para reflejar el movimiento geométrico\n",
        "        self.descripcion = 'Movimiento Browniano Geométrico'\n",
        "        self.alpha = alpha\n",
        "        self.lambda_ = lambda_\n",
        "        # Aplica la transformación geométrica a las posiciones\n",
        "        self.posiciones = np.exp(self.alpha * self.eje_tiempo[:, None] + self.lambda_ * self.posiciones.T).T\n",
        "    def valor_esperado_empirico2(self):\n",
        "        # Calcula el valor esperado empírico a lo largo de la dimensión de trayectorias\n",
        "        return np.mean(self.posiciones, axis=0)\n",
        "    def visualizar_covarianza_empirica2(self):\n",
        "        # Cálculo de la matriz de covarianza de las trayectorias simuladas\n",
        "        return np.cov(self.posiciones, rowvar=False, ddof=1)\n",
        "    def calcular_varianza_empirica_y_graficar2(self):\n",
        "        # Este método calcula la varianza de las trayectorias simuladas en cada punto temporal\n",
        "        varianza_empirica = np.var(self.posiciones, axis=0, ddof=1)\n",
        "        puntos_temporales = np.arange(self.cantidad_puntos) * self.delta_tiempo\n",
        "        return varianza_empirica,puntos_temporales\n",
        "# Configuraciones de parámetros para varias simulaciones\n",
        "parametros = [(0.5, 0.5), (0.8, 0.1), (0.2, 0.2), (0.8, 0.2)]\n",
        "# Preparación del área de visualización\n",
        "figura, ejes = plt.subplots(2, 2, figsize=(10, 8))\n",
        "ejes = ejes.flatten()\n",
        "\n",
        "# Iteración sobre cada configuración de parámetros\n",
        "for indice, (alpha, lambda_) in enumerate(parametros):\n",
        "    simulacion = BrownianoGeometrico(1000, 500, 1)\n",
        "    simulacion.aplicar_transformacion_geometrica(alpha, lambda_)\n",
        "    # Visualización de una muestra de trayectorias\n",
        "    for trayectoria in range(100):\n",
        "        ejes[indice].plot(simulacion.eje_tiempo, simulacion.posiciones[trayectoria], lw=0.5, alpha=0.7)\n",
        "    # Ajustes finales de la visualización\n",
        "    ejes[indice].set_title(f'α={alpha}, λ={lambda_}')\n",
        "    if indice >= 2:\n",
        "        ejes[indice].set_xlabel('Tiempo')\n",
        "    ejes[indice].set_ylabel('Posición')\n",
        "\n",
        "# Título general y ajustes de layout\n",
        "figura.suptitle('Variaciones del Movimiento Browniano Geométrico')\n",
        "plt.tight_layout()\n",
        "plt.show()"
      ]
    },
    {
      "cell_type": "markdown",
      "metadata": {
        "id": "ibH4xDyqlDN1"
      },
      "source": [
        "Sacamos el valor esperado empírico:"
      ]
    },
    {
      "cell_type": "code",
      "execution_count": null,
      "metadata": {
        "id": "VsFa-PG33g5o"
      },
      "outputs": [],
      "source": [
        "val_esperado_geometrico = simulacion.valor_esperado_empirico()\n",
        "#print(f'Valor Esperado Empírico: {val_esperado_geometrico}')"
      ]
    },
    {
      "cell_type": "markdown",
      "metadata": {
        "id": "sftC8FSVlDN2"
      },
      "source": [
        "Gráficamos la varianza empiríca:"
      ]
    },
    {
      "cell_type": "code",
      "execution_count": null,
      "metadata": {
        "id": "Xfwk94gk3IqP"
      },
      "outputs": [],
      "source": [
        "variance_geometric = simulacion.calcular_varianza_empirica_y_graficar()"
      ]
    },
    {
      "cell_type": "markdown",
      "metadata": {
        "id": "OiOmJufClDN2"
      },
      "source": [
        "Matriz de covarianzas empíricas:"
      ]
    },
    {
      "cell_type": "code",
      "execution_count": null,
      "metadata": {
        "id": "-z6HZUd33png"
      },
      "outputs": [],
      "source": [
        "covarianza_geometrico = simulacion.visualizar_covarianza_empirica()"
      ]
    },
    {
      "cell_type": "code",
      "execution_count": null,
      "metadata": {
        "id": "Xt16Wx0D3tIR"
      },
      "outputs": [],
      "source": [
        "covarianza_geometrico = simulacion.visualizar_covarianza_empirica(en_3d=True)"
      ]
    },
    {
      "cell_type": "code",
      "execution_count": null,
      "metadata": {
        "id": "vA2ffDujH_Qf"
      },
      "outputs": [],
      "source": [
        "corr_geometrico = simulacion.visualizar_corr_empirica()"
      ]
    },
    {
      "cell_type": "code",
      "execution_count": null,
      "metadata": {
        "id": "jVFzu7VAH2VN"
      },
      "outputs": [],
      "source": [
        "corr_geometrico = simulacion.visualizar_corr_empirica(en_3d=True)"
      ]
    },
    {
      "cell_type": "markdown",
      "metadata": {
        "id": "1IhJmL4ua4oJ"
      },
      "source": [
        "**PUNTO C**  \n",
        "\n",
        "CONTRASTE: (GEOMÉTRICO)\n",
        "\n",
        "En este punto se compara las propiedades distribucionales que se obtuvieron anteriormente, particuralmente la varianza y media\n",
        "y para ver cuando converge se utiliza el **valor esperado**"
      ]
    },
    {
      "cell_type": "markdown",
      "metadata": {
        "id": "g8GCHUjvlDN3"
      },
      "source": [
        "**Convergencia**\n",
        "\n",
        "1) Valor esperado $E[W_t] = e^{(\\alpha + \\frac{1}{2} \\lambda^2)t}$ vs empírico"
      ]
    },
    {
      "cell_type": "code",
      "execution_count": null,
      "metadata": {
        "id": "labPJQQhYzGi"
      },
      "outputs": [],
      "source": [
        "def theoretical_expectation_geom(t, alpha, lambda_):\n",
        "    return np.exp((alpha + (lambda_**2) / 2) * t)\n",
        "\n",
        "\n",
        "num_simulaciones = [1, 5, 50, 100, 200, 400, 800, 1600, 3200]  # Ejemplo de rango\n",
        "diferencias = []  # Para almacenar la diferencia promedio para cada número de simulaciones\n",
        "\n",
        "for n in num_simulaciones:\n",
        "    g_simulacion = BrownianoGeometrico(n, 500, 1)  # Asumiendo que '500' y '1' son parámetros fijos\n",
        "    g_simulacion.aplicar_transformacion_geometrica(0.5, 0.5)\n",
        "    val_esperado_geometrico = g_simulacion.valor_esperado_empirico2()\n",
        "\n",
        "    # Calcular el valor teórico\n",
        "    esperado_teorico_geome = theoretical_expectation_geom(g_simulacion.eje_tiempo, 0.5, 0.5)\n",
        "\n",
        "    # Calcular la diferencia promedio entre los valores simulados y teóricos\n",
        "    diferencia = np.mean(abs(val_esperado_geometrico - esperado_teorico_geome))\n",
        "    diferencias.append(diferencia)\n",
        "\n",
        "# Graficar la diferencia promedio vs. número de simulaciones\n",
        "plt.figure(figsize=(10, 6))\n",
        "plt.plot(num_simulaciones, diferencias, marker='o', linestyle='--')\n",
        "plt.xlabel('Número de Simulaciones')\n",
        "plt.ylabel('Diferencia Promedio')\n",
        "plt.title('Análisis de Convergencia')\n",
        "plt.show()"
      ]
    },
    {
      "cell_type": "markdown",
      "metadata": {
        "id": "cZlczhfslDN3"
      },
      "source": [
        "**Contraste varianza y valor esperado**"
      ]
    },
    {
      "cell_type": "code",
      "execution_count": null,
      "metadata": {
        "id": "WKI565frY2wm"
      },
      "outputs": [],
      "source": [
        "def theoretical_variance_geom(t, alpha, lambda_):\n",
        "    return np.exp(2 * t * (alpha + (lambda_**2) / 2)) * (np.exp(lambda_**2 * t) - 1)\n",
        "esperado_teorico_geome = theoretical_expectation_geom(simulacion.eje_tiempo, 0.5, 0.5)\n",
        "g_simulacion = BrownianoGeometrico(100, 500, 1)\n",
        "g_simulacion.aplicar_transformacion_geometrica(0.5, 0.5)\n",
        "val_esperado_geometrico = g_simulacion.valor_esperado_empirico2()\n",
        "var_teorico_geome = theoretical_variance_geom(g_simulacion.eje_tiempo, 0.5, 0.5)\n",
        "var_geometrico,puntos_temporales = g_simulacion.calcular_varianza_empirica_y_graficar2()\n",
        "\n",
        "fig, axes = plt.subplots(1, 2, figsize=(15, 6))\n",
        "\n",
        "# Plot for Expected Value\n",
        "axes[0].plot(g_simulacion.eje_tiempo, val_esperado_geometrico, label='Simulación', marker='o', color='pink')\n",
        "axes[0].plot(g_simulacion.eje_tiempo, esperado_teorico_geome, label='Teórico', linestyle='--')\n",
        "axes[0].set_xlabel('t')\n",
        "axes[0].set_ylabel('$E[W_t]$')\n",
        "axes[0].set_title('Comparación entre Simulación y Teoría (Esperanza)')\n",
        "axes[0].legend()\n",
        "axes[0].set_ylim(0, 10)\n",
        "\n",
        "# Plot for Variance\n",
        "axes[1].plot(g_simulacion.eje_tiempo, var_geometrico, label='Simulación', marker='o', color='pink')\n",
        "axes[1].plot(g_simulacion.eje_tiempo, var_teorico_geome, label='Teórico', linestyle='--')\n",
        "axes[1].set_xlabel('t')\n",
        "axes[1].set_ylabel('$Var[W_t]$')\n",
        "axes[1].set_title('Comparación entre Simulación y Teoría (Varianza)')\n",
        "axes[1].legend()\n",
        "axes[1].set_ylim(0, 10)\n",
        "\n",
        "plt.tight_layout()\n",
        "plt.show()"
      ]
    },
    {
      "cell_type": "markdown",
      "metadata": {
        "id": "2LGbDbVSlDN3"
      },
      "source": [
        "**Contraste covarianza**"
      ]
    },
    {
      "cell_type": "code",
      "execution_count": null,
      "metadata": {
        "id": "n9v6YhahlDN3"
      },
      "outputs": [],
      "source": [
        "def theoretical_covariance_geom(t, alpha, lambda_):\n",
        "    return np.exp((alpha + (lambda_**2) / 2) * (t[None, :] + t[:, None])) * (np.exp(lambda_**2 * np.minimum(t[None, :], t[:, None])) - 1)\n",
        "\n",
        "cov_empirical = simulacion.visualizar_covarianza_empirica2()\n",
        "t = simulacion.eje_tiempo\n",
        "\n",
        "\n",
        "fig, ax = plt.subplots(1, 2, figsize=(12, 6))\n",
        "im1 = ax[0].imshow(cov_empirical, cmap='coolwarm')\n",
        "ax[0].set_title('Empirical Covariance')\n",
        "ax[0].set_xlabel('Time')\n",
        "ax[0].set_ylabel('Time')\n",
        "fig.colorbar(im1, ax=ax[0])\n",
        "\n",
        "cov_theoretical = theoretical_covariance_geom(t, 0.5, 0.5)\n",
        "im2 = ax[1].imshow(cov_theoretical, cmap='coolwarm')\n",
        "ax[1].set_title('Theoretical Covariance')\n",
        "ax[1].set_xlabel('Time')\n",
        "ax[1].set_ylabel('Time')\n",
        "fig.colorbar(im2, ax=ax[1])\n",
        "\n",
        "plt.tight_layout()\n",
        "plt.show()\n"
      ]
    },
    {
      "cell_type": "markdown",
      "metadata": {
        "id": "yOtm2VV3lDN4"
      },
      "source": [
        "**Contraste correlación**"
      ]
    },
    {
      "cell_type": "code",
      "execution_count": null,
      "metadata": {
        "id": "Pd0fcYGYlDN4"
      },
      "outputs": [],
      "source": [
        "cov_empirical = simulacion.visualizar_corr_empirica()\n",
        "def theoretical_correlation_geom(t, alpha, lambda_):\n",
        "    cov_theoretical = theoretical_covariance_geom(t, alpha, lambda_)\n",
        "    var_theoretical = theoretical_variance_geom(t, alpha, lambda_)\n",
        "    return cov_theoretical / np.sqrt(var_theoretical[:, None] * var_theoretical[None, :])\n",
        "\n",
        "corr_theoretical = theoretical_correlation_geom(t, 0.5, 0.5)\n",
        "\n",
        "plt.imshow(corr_theoretical, cmap='coolwarm')\n",
        "plt.title('Theoretical Correlation')\n",
        "plt.xlabel('Time')\n",
        "plt.ylabel('Time')\n",
        "plt.colorbar()\n",
        "plt.tight_layout()\n",
        "plt.show()\n",
        "\n",
        "\n"
      ]
    },
    {
      "cell_type": "markdown",
      "metadata": {
        "id": "ycazcJjPlDN4"
      },
      "source": [
        "**Conclusiones  contraste geométrico**\n",
        "\n",
        "Al comparar las propiedades distribucionales teóricas y empíricas del Movimiento Browniano Geométrico, podemos observar lo siguiente:\n",
        "\n",
        "**Valor Esperado:** La esperanza teórica del Movimiento Browniano Geométrico se calcula como $E[W_t] = e^{(\\alpha + \\frac{1}{2} \\lambda^2)t}$. Al compararla con los valores esperados empíricos obtenidos a través de simulaciones, podemos ver que hay una convergencia a medida que aumentamos el número de simulaciones. Esto indica que a medida que se realizan más simulaciones, los valores esperados empíricos se acercan cada vez más al valor esperado teórico.\n",
        "\n",
        "**Varianza:** La varianza teórica del Movimiento Browniano Geométrico se calcula como $Var(W_t) = e^{2t(\\alpha+\\frac{\\lambda^2}{2})}(e^{\\lambda^2 t} - 1)$. Al compararla con las varianzas empíricas obtenidas a través de simulaciones, podemos observar una tendencia similar a la del valor esperado. A medida que aumentamos el número de simulaciones, las varianzas empíricas se acercan cada vez más a la varianza teórica.\n",
        "\n",
        "**Covarianza:** La covarianza teórica del Movimiento Browniano Geométrico se calcula como $Cov(W_t, W_s) = e^{(\\alpha+\\frac{\\lambda^2}{2})(t+s)} \\left( e^{\\lambda^2min{s,t}} - 1 \\right)$. Al compararla con las covarianzas empíricas obtenidas a través de simulaciones, podemos observar una convergencia similar a la del valor esperado y la varianza. A medida que aumentamos el número de simulaciones, las covarianzas empíricas se acercan cada vez más a la covarianza teórica.\n",
        "\n",
        "Podemos decir que a medida que aumentamos el número de simulaciones, las propiedades distribucionales empíricas del Movimiento Browniano Geométrico se acercan cada vez más a las propiedades teóricas. Esto indica que las simulaciones son una herramienta efectiva para estimar las propiedades de este tipo de proceso estocástico."
      ]
    },
    {
      "cell_type": "markdown",
      "metadata": {
        "id": "IHCHi7ksrESn"
      },
      "source": [
        "# **Bridge**\n",
        "**PUNTO B**\n",
        "\n",
        "Simulamos trayectorias para 500 puntos del tiempo igualmente espaciados y obtenemos las medidas de\n",
        "centralidad, varianza, covarianza y correlación empíricas."
      ]
    },
    {
      "cell_type": "code",
      "execution_count": null,
      "metadata": {
        "id": "hgNF5z_cFjSE"
      },
      "outputs": [],
      "source": [
        "class BrownianoBridge(MovimientoBrownianoBasico):\n",
        "    def Bridge(self):\n",
        "        # Este método transforma las trayectorias del movimiento browniano en un Puente Browniano.\n",
        "        self.descripcion = 'Movimiento Browniano Bridge'\n",
        "        # Calcula el último valor antes del final para cada trayectoria como referencia.\n",
        "        self.B1 = self.posiciones[:, -2]\n",
        "        # Ajusta las posiciones para convertirlas en un Puente Browniano.\n",
        "        # La fórmula se basa en la reducción proporcional del último valor a lo largo del tiempo.\n",
        "        self.posiciones = self.posiciones - np.outer(self.B1, self.eje_tiempo)\n",
        "    def valor_esperado_empirico2(self):\n",
        "        # Calcula el valor esperado empírico a lo largo de la dimensión de trayectorias\n",
        "        return np.mean(self.posiciones, axis=0)\n",
        "    def visualizar_covarianza_empirica2(self):\n",
        "        # Cálculo de la matriz de covarianza de las trayectorias simuladas\n",
        "        return np.cov(self.posiciones, rowvar=False, ddof=1)\n",
        "    def calcular_varianza_empirica_y_graficar2(self):\n",
        "        # Este método calcula la varianza de las trayectorias simuladas en cada punto temporal\n",
        "        varianza_empirica = np.var(self.posiciones, axis=0, ddof=1)\n",
        "        puntos_temporales = np.arange(self.cantidad_puntos) * self.delta_tiempo\n",
        "        return varianza_empirica,puntos_temporales\n",
        "\n",
        "# Instanciación del Puente Browniano con parámetros dados.\n",
        "Browniano_Bridge = BrownianoBridge(1000, 500, 1)\n",
        "# Aplicación del método para transformar en Puente Browniano.\n",
        "Browniano_Bridge.Bridge()\n",
        "# Almacenamiento de las posiciones ajustadas para visualización.\n",
        "posiciones_bridge = Browniano_Bridge.posiciones\n",
        "\n",
        "# Visualización de un subconjunto de trayectorias.\n",
        "for i in range(50):\n",
        "    plt.plot(Browniano_Bridge.eje_tiempo, posiciones_bridge[i], linewidth=0.5)\n",
        "plt.xlabel('Tiempo')\n",
        "plt.ylabel('Posición')\n",
        "plt.title('Visualización del Movimiento Browniano Bridge')\n",
        "plt.show()"
      ]
    },
    {
      "cell_type": "code",
      "execution_count": null,
      "metadata": {
        "id": "3XYKUFgfrpn0"
      },
      "outputs": [],
      "source": [
        "val_esperado_bridge = Browniano_Bridge.valor_esperado_empirico()"
      ]
    },
    {
      "cell_type": "code",
      "execution_count": null,
      "metadata": {
        "id": "Q11i_fVrrsVP"
      },
      "outputs": [],
      "source": [
        "variance_bridge = Browniano_Bridge.calcular_varianza_empirica_y_graficar()"
      ]
    },
    {
      "cell_type": "code",
      "execution_count": null,
      "metadata": {
        "id": "fjQ_sbna6rNp"
      },
      "outputs": [],
      "source": [
        "covariance_bridge = Browniano_Bridge.visualizar_covarianza_empirica()"
      ]
    },
    {
      "cell_type": "code",
      "execution_count": null,
      "metadata": {
        "id": "-NDJolgSrvCr"
      },
      "outputs": [],
      "source": [
        "covariance_bridge = Browniano_Bridge.visualizar_covarianza_empirica(en_3d=True)"
      ]
    },
    {
      "cell_type": "code",
      "execution_count": null,
      "metadata": {
        "id": "mndDksmbIHYv"
      },
      "outputs": [],
      "source": [
        "corr_bridge = Browniano_Bridge.visualizar_corr_empirica()"
      ]
    },
    {
      "cell_type": "code",
      "execution_count": null,
      "metadata": {
        "id": "Z363fpRuIVaP"
      },
      "outputs": [],
      "source": [
        "corr_bridge = Browniano_Bridge.visualizar_corr_empirica(en_3d=True)"
      ]
    },
    {
      "cell_type": "markdown",
      "metadata": {
        "id": "NLkpuF_nYhnW"
      },
      "source": [
        "## Punt c\n",
        "\n",
        "CONTRASTE (BRIDGE)\n",
        "\n",
        "En este punto comparamos las propiedades distribucionales que se obtuvieron anteriormente, particuralmente la varianza y media\n",
        "y para ver cuando converge se utiliza el **valor esperado**\n",
        "\n",
        "**Convergencia**"
      ]
    },
    {
      "cell_type": "code",
      "execution_count": null,
      "metadata": {
        "id": "oWIdmp__Ykb1"
      },
      "outputs": [],
      "source": [
        "def theoretical_expectation_bridge(t):\n",
        "    return t*0\n",
        "\n",
        "\n",
        "num_simulaciones = [1, 5, 50, 100, 200, 400, 800, 1600, 3200]  # Ejemplo de rango\n",
        "diferencias = []  # Para almacenar la diferencia promedio para cada número de simulaciones\n",
        "\n",
        "for n in num_simulaciones:\n",
        "    Browniano_Bridge = BrownianoBridge(n, 500, 1)\n",
        "    Browniano_Bridge.Bridge()\n",
        "    val_esperado_bridge = Browniano_Bridge.valor_esperado_empirico2()\n",
        "\n",
        "    # Calcular el valor teórico\n",
        "    esperado_teorico_bridgee = theoretical_expectation_bridge(Browniano_Bridge.eje_tiempo)\n",
        "\n",
        "    # Calcular la diferencia promedio entre los valores simulados y teóricos\n",
        "    diferencia = np.mean(abs(val_esperado_bridge - esperado_teorico_bridgee))\n",
        "    diferencias.append(diferencia)\n",
        "\n",
        "# Graficar la diferencia promedio vs. número de simulaciones\n",
        "plt.figure(figsize=(10, 6))\n",
        "plt.plot(num_simulaciones, diferencias, marker='o', linestyle='--')\n",
        "plt.xlabel('Número de Simulaciones')\n",
        "plt.ylabel('Diferencia Promedio')\n",
        "plt.title('Análisis de Convergencia')\n",
        "plt.show()\n"
      ]
    },
    {
      "cell_type": "markdown",
      "metadata": {
        "id": "Dn63u1FslDN9"
      },
      "source": [
        "**Contraste valor esperado y varianza**"
      ]
    },
    {
      "cell_type": "code",
      "execution_count": null,
      "metadata": {
        "id": "wTiKFmW_YnYY"
      },
      "outputs": [],
      "source": [
        "esperado_teorico_bridgee = theoretical_expectation_bridge(simulacion.eje_tiempo)\n",
        "bridge_sim = BrownianoBridge(100, 500, 1)\n",
        "bridge_sim.Bridge()\n",
        "val_esperado_bridge = bridge_sim.valor_esperado_empirico2()\n",
        "plt.figure(figsize=(10, 6))\n",
        "plt.plot(bridge_sim.eje_tiempo, val_esperado_bridge, label='Simulación', marker='o',color = 'pink')\n",
        "plt.plot(bridge_sim.eje_tiempo, esperado_teorico_bridgee, label='Teórico', linestyle='--')\n",
        "plt.xlabel('t')\n",
        "plt.ylabel('E[W_t]')\n",
        "plt.title('Comparación entre Simulación y Teoría Media')\n",
        "plt.legend()\n",
        "plt.ylim(0, 10)\n",
        "plt.show()\n",
        "\n",
        "\n",
        "def theoretical_variance_bridge(t):\n",
        "    return t-t**2\n",
        "bridge_sim = BrownianoBridge(100, 500, 1)\n",
        "bridge_sim.Bridge()\n",
        "var_teorico_bridgee = theoretical_variance_bridge(bridge_sim.eje_tiempo)\n",
        "var_bridge,puntos_temporales = bridge_sim.calcular_varianza_empirica_y_graficar2()\n",
        "plt.figure(figsize=(10, 6))\n",
        "plt.plot(bridge_sim.eje_tiempo, var_teorico_bridgee, label='Simulación', marker='o',color = 'pink')\n",
        "plt.plot(bridge_sim.eje_tiempo, var_bridge, label='Teórico', linestyle='--')\n",
        "plt.xlabel('t')\n",
        "plt.ylabel('$Var[W_t]$')\n",
        "plt.title('Comparación entre Simulación y Teoría Varianza')\n",
        "plt.legend()\n",
        "plt.ylim(0, 10)\n",
        "plt.show()"
      ]
    },
    {
      "cell_type": "markdown",
      "metadata": {
        "id": "pBsrl2TnlDN9"
      },
      "source": [
        "**Contraste covarianza**"
      ]
    },
    {
      "cell_type": "code",
      "execution_count": null,
      "metadata": {
        "id": "5aKwSY9rlDN-"
      },
      "outputs": [],
      "source": [
        "def theoretical_covariance_bridge(t, t2, alpha):\n",
        "    cov = np.minimum(t[None, :], t[:, None]) - (t[None, :] * t[:, None])\n",
        "    return cov\n",
        "\n",
        "cov_empitica_b = Browniano_Bridge.visualizar_covarianza_empirica2()\n",
        "t = simulacion.eje_tiempo\n",
        "\n",
        "fig, ax = plt.subplots(1, 2, figsize=(12, 6))\n",
        "im1 = ax[0].imshow(cov_empitica_b, cmap='coolwarm')\n",
        "ax[0].set_title('Empirical Covariance')\n",
        "ax[0].set_xlabel('Time')\n",
        "ax[0].set_ylabel('Time')\n",
        "fig.colorbar(im1, ax=ax[0])\n",
        "\n",
        "cov_theoretical_b = theoretical_covariance_bridge(t, 0.5, 0.5)\n",
        "im2 = ax[1].imshow(cov_theoretical_b, cmap='coolwarm')\n",
        "ax[1].set_title('Theoretical Covariance')\n",
        "ax[1].set_xlabel('Time')\n",
        "ax[1].set_ylabel('Time')\n",
        "fig.colorbar(im2, ax=ax[1])\n",
        "\n",
        "plt.tight_layout()\n",
        "plt.show()"
      ]
    },
    {
      "cell_type": "markdown",
      "metadata": {
        "id": "yq_huMsvlDN-"
      },
      "source": [
        "**Contraste correlación**"
      ]
    },
    {
      "cell_type": "code",
      "execution_count": null,
      "metadata": {
        "id": "5rPBrhbXlDN-"
      },
      "outputs": [],
      "source": [
        "#corr_empirical_b =  Browniano_Bridge.visualizar_corr_empirica()\n",
        "def theoretical_correlation_bridge(t, alpha, lambda_):\n",
        "    cov_theoretical_b = theoretical_covariance_bridge(t, alpha, lambda_)\n",
        "    var_theoretical_b = theoretical_variance_bridge(t)\n",
        "    return cov_theoretical_b / np.sqrt(var_theoretical_b[:, None] * var_theoretical_b[None, :])\n",
        "\n",
        "fig, axs = plt.subplots(1, 2, figsize=(10, 5))\n",
        "\n",
        "# Gráfica 1\n",
        "axs[0].imshow(corr_bridge[0], cmap='coolwarm')\n",
        "axs[0].set_title('Empirical Correlation')\n",
        "axs[0].set_xlabel('Time')\n",
        "axs[0].set_ylabel('Time')\n",
        "\n",
        "# Gráfica 2\n",
        "axs[1].imshow(corr_theoretical, cmap='coolwarm')\n",
        "axs[1].set_title('Theoretical Correlation')\n",
        "axs[1].set_xlabel('Time')\n",
        "axs[1].set_ylabel('Time')\n",
        "\n",
        "plt.tight_layout()\n",
        "plt.show()"
      ]
    },
    {
      "cell_type": "markdown",
      "metadata": {
        "id": "T9AN31RalDN-"
      },
      "source": [
        "Después de analizar las propiedades distribucionales de la bridge, podemos sacar las siguientes conclusiones:\n",
        "\n",
        "**Esperanza:** la esperanza de la bridge se ha calculado y se ha comparado con los valores teóricos. Podemos observar que la esperanza empírica y la esperanza teórica son cercanas, lo que indica que la bridge sigue una distribución esperada similar a la teórica.\n",
        "\n",
        "**Varianza:** se ha calculado la varianza de la bridge y se ha comparado con los valores teóricos. La varianza empírica y la varianza teórica también son similares, lo que sugiere que la bridge tiene una dispersión similar a la esperada teóricamente.\n",
        "\n",
        "**Covarianza:** se ha calculado la covarianza de la bridge y se ha comparado con los valores teóricos. La covarianza empírica y la covarianza teórica son cercanas, lo que indica que la bridge tiene una relación de covarianza similar a la esperada teóricamente.\n",
        "\n",
        "**Correlación:** se ha calculado la correlación de la bridge y se ha comparado con los valores teóricos. La correlación empírica y la correlación teórica también son similares, lo que sugiere que la bridge tiene una relación de correlación similar a la esperada teóricamente."
      ]
    },
    {
      "cell_type": "markdown",
      "metadata": {
        "id": "7t-2IV7f_3uH"
      },
      "source": [
        "## **Específico:**\n",
        "\n",
        "$W_t = B_{3t} - e^{\\sigma  B_{t}}$ con $\\{B_t\\}$  $t≥0$ un Movimiento Browniano Estándar y σ ∈ $\\mathbb{R}$.\n",
        "\n",
        "**PUNTO B**\n",
        "\n",
        "Simulamos trayectorias y gráficamos:"
      ]
    },
    {
      "cell_type": "code",
      "execution_count": null,
      "metadata": {
        "id": "PNQY4wy11X25"
      },
      "outputs": [],
      "source": [
        "class SpecificProcess(MovimientoBrownianoBasico):\n",
        "    def Specific(self,sigma):\n",
        "        self.sigma = sigma\n",
        "        self.posiciones = pow(self.posiciones,3) - np.exp(self.sigma * self.posiciones)\n",
        "        self.name = 'Movimiento Browniano Especifico'\n",
        "    def valor_esperado_empirico2(self):\n",
        "        # Calcula el valor esperado empírico a lo largo de la dimensión de trayectorias\n",
        "        return np.mean(self.posiciones, axis=0)\n",
        "    def visualizar_covarianza_empirica2(self):\n",
        "        # Cálculo de la matriz de covarianza de las trayectorias simuladas\n",
        "        return np.cov(self.posiciones, rowvar=False, ddof=1)\n",
        "    def calcular_varianza_empirica_y_graficar2(self):\n",
        "        # Este método calcula la varianza de las trayectorias simuladas en cada punto temporal\n",
        "        varianza_empirica = np.var(self.posiciones, axis=0, ddof=1)\n",
        "        puntos_temporales = np.arange(self.cantidad_puntos) * self.delta_tiempo\n",
        "        return varianza_empirica,puntos_temporales\n",
        "\n",
        "sigma = 0.5\n",
        "specific_process = SpecificProcess(1000, 500, 1)\n",
        "specific_process.Specific(sigma)\n",
        "\n",
        "plt.figure(figsize=(10, 6))\n",
        "for i in range(100):\n",
        "    plt.plot(specific_process.eje_tiempo, specific_process.posiciones[i, :], lw=1, alpha=0.5)\n",
        "plt.xlabel('Tiempo')\n",
        "plt.ylabel('Valor')\n",
        "plt.title('Proceso Específico $W_t = B_{t}^3 - e^{\\sigma B_t}$')\n",
        "plt.show()"
      ]
    },
    {
      "cell_type": "markdown",
      "metadata": {
        "id": "rzyHWRkIlDN-"
      },
      "source": [
        "**Valor esperado empírico**"
      ]
    },
    {
      "cell_type": "code",
      "execution_count": null,
      "metadata": {
        "id": "rL2I6of26X9Q"
      },
      "outputs": [],
      "source": [
        "val_esperado_specific = specific_process.valor_esperado_empirico()"
      ]
    },
    {
      "cell_type": "markdown",
      "metadata": {
        "id": "9Yu9AwFDlDN_"
      },
      "source": [
        "**Varianza empírica**"
      ]
    },
    {
      "cell_type": "code",
      "execution_count": null,
      "metadata": {
        "id": "Cxa71-3x6ifi"
      },
      "outputs": [],
      "source": [
        "variance_specfic = specific_process.calcular_varianza_empirica_y_graficar()"
      ]
    },
    {
      "cell_type": "markdown",
      "metadata": {
        "id": "MZTl3OxOlDN_"
      },
      "source": [
        "**Covarianza empírica**"
      ]
    },
    {
      "cell_type": "code",
      "execution_count": null,
      "metadata": {
        "id": "dGAYidCh614y"
      },
      "outputs": [],
      "source": [
        "covariance_specific = specific_process.visualizar_covarianza_empirica()"
      ]
    },
    {
      "cell_type": "code",
      "execution_count": null,
      "metadata": {
        "id": "ylskgY6M7Bj-"
      },
      "outputs": [],
      "source": [
        "covariance_specific = specific_process.visualizar_covarianza_empirica(en_3d=True)"
      ]
    },
    {
      "cell_type": "markdown",
      "metadata": {
        "id": "_JK2Ax_ilDN_"
      },
      "source": [
        "**Correlación empírica**"
      ]
    },
    {
      "cell_type": "code",
      "execution_count": null,
      "metadata": {
        "id": "GCNUYw9IIll0"
      },
      "outputs": [],
      "source": [
        "corr_specific = specific_process.visualizar_corr_empirica()"
      ]
    },
    {
      "cell_type": "code",
      "execution_count": null,
      "metadata": {
        "id": "trCqD85vIqZo"
      },
      "outputs": [],
      "source": [
        "corr_specific = specific_process.visualizar_corr_empirica(en_3d=True)"
      ]
    },
    {
      "cell_type": "markdown",
      "metadata": {
        "id": "nQU5TW4tU-Wu"
      },
      "source": [
        "## PUNTO C\n",
        "\n",
        "CONTRASTE (ESPECÍFICO)\n",
        "\n",
        "**Convergencia**"
      ]
    },
    {
      "cell_type": "code",
      "execution_count": null,
      "metadata": {
        "id": "6V-KTn7HU-DB"
      },
      "outputs": [],
      "source": [
        "def theoretical_expectation_Specific(t,sigma):\n",
        "    return -np.exp((t*sigma**2)/2)\n",
        "\n",
        "\n",
        "num_simulaciones = [1,20,500,1000,3200]  # Ejemplo de rango\n",
        "diferencias = []  # Para almacenar la diferencia promedio para cada número de simulaciones\n",
        "\n",
        "for n in num_simulaciones:\n",
        "    Specific_sim = SpecificProcess(n, 500, 1)  # Asumiendo que '500' y '1' son parámetros fijos\n",
        "    Specific_sim.Specific(0.5)\n",
        "    val_esperado_Specific = Specific_sim.valor_esperado_empirico2()\n",
        "\n",
        "    # Calcular el valor teórico\n",
        "    esperado_teorico_Specifice = theoretical_expectation_Specific(Specific_sim.eje_tiempo, 0.5)\n",
        "\n",
        "    # Calcular la diferencia promedio entre los valores simulados y teóricos\n",
        "    diferencia = np.mean(abs(val_esperado_Specific - esperado_teorico_Specifice))\n",
        "    diferencias.append(diferencia)\n",
        "\n",
        "# Graficar la diferencia promedio vs. número de simulaciones\n",
        "plt.figure(figsize=(10, 6))\n",
        "plt.plot(num_simulaciones, diferencias, marker='o', linestyle='--')\n",
        "plt.xlabel('Número de Simulaciones')\n",
        "plt.ylabel('Diferencia Promedio')\n",
        "plt.title('Análisis de Convergencia')\n",
        "plt.show()"
      ]
    },
    {
      "cell_type": "markdown",
      "metadata": {
        "id": "xkiEJ7nzlDOA"
      },
      "source": [
        "**Contraste esperanza**"
      ]
    },
    {
      "cell_type": "code",
      "execution_count": null,
      "metadata": {
        "id": "0j3Ge5X7ZSIG"
      },
      "outputs": [],
      "source": [
        "Specific_sim = SpecificProcess(100, 500, 1)\n",
        "Specific_sim.Specific(0.5)\n",
        "esperado_teorico_Specifice = theoretical_expectation_Specific(Specific_sim.eje_tiempo,0.5)\n",
        "val_esperado_Specific = Specific_sim.valor_esperado_empirico2()\n",
        "plt.figure(figsize=(10, 6))\n",
        "plt.plot(Specific_sim.eje_tiempo, esperado_teorico_Specifice, label='Teórico',marker='o',color = 'pink')\n",
        "plt.plot(Specific_sim.eje_tiempo, val_esperado_Specific, label='Simulación', linestyle='--')\n",
        "plt.xlabel('t')\n",
        "plt.ylabel('$E[W_t]$')\n",
        "plt.title('Comparación entre Simulación y Teoría')\n",
        "plt.legend()\n",
        "plt.ylim(-2, 1)\n",
        "plt.show()\n",
        "\n",
        "\n"
      ]
    },
    {
      "cell_type": "code",
      "execution_count": null,
      "metadata": {
        "id": "4DVaqZKteRYD"
      },
      "outputs": [],
      "source": [
        "def theoretical_variance_Specific(t,sigma):\n",
        "    return 15*t**3-np.exp(t*sigma**2)+np.exp(2*t*sigma**2)-2*(np.exp((t*sigma**2/2))*t**2*sigma*(3+t*sigma**2))\n",
        "Specific_sim = SpecificProcess(1000, 500, 1)\n",
        "Specific_sim.Specific(0.5)\n",
        "var_teorico_Specifice = theoretical_variance_Specific(Specific_sim.eje_tiempo,0.5)\n",
        "var_Specific, puntos_temporales = Specific_sim.calcular_varianza_empirica_y_graficar2()\n",
        "plt.figure(figsize=(10, 5))\n",
        "plt.plot(Specific_sim.eje_tiempo, var_teorico_Specifice, label='Teórico', marker='o',color = 'pink')\n",
        "plt.plot(Specific_sim.eje_tiempo, var_Specific, label='Simulación', linestyle='--')\n",
        "plt.xlabel('t')\n",
        "plt.ylabel('$Var[W_t]$')\n",
        "plt.title('Comparación entre Simulación y Teoría')\n",
        "plt.legend()\n",
        "plt.ylim(0, 16)\n",
        "plt.show()"
      ]
    },
    {
      "cell_type": "markdown",
      "metadata": {
        "id": "VnsurqsKYrjz"
      },
      "source": [
        "Vemos que aproximadamente desde las 1000 simulaciones los valores empiezan a converger al valor teórico"
      ]
    },
    {
      "cell_type": "markdown",
      "metadata": {
        "id": "AoZTOJw7lDOA"
      },
      "source": [
        "**Contraste covarianza**"
      ]
    },
    {
      "cell_type": "code",
      "execution_count": null,
      "metadata": {
        "id": "MESRWnsTlDOA"
      },
      "outputs": [],
      "source": [
        "def theoretical_covariance_Specific(t, sigma):\n",
        "    #s, t1 = np.meshgrid(t, t)\n",
        "    t1 = t[None,:]\n",
        "    s = t[:,None]\n",
        "    cov_theoretical = 6 * s**3 + 9 * s**2 * t1\n",
        "    cov_theoretical -= np.exp(sigma**2 * t1 / 2) * s**2 * sigma * (3 + s * sigma**2)\n",
        "    cov_theoretical -= 3 * t1 * sigma * s * np.exp(sigma**2 * s / 2)\n",
        "    cov_theoretical += s**3 * sigma**3 * np.exp(sigma**2 * s / 2)\n",
        "    cov_theoretical += np.exp(sigma**2 * (t1 - s) / 2) * np.exp(2 * sigma**2 * s)\n",
        "    cov_theoretical -= np.exp(sigma**2 * (t1 + s) / 2)\n",
        "    return cov_theoretical\n",
        "\n",
        "cov_empirical = Specific_sim.visualizar_covarianza_empirica2()\n",
        "t = simulacion.eje_tiempo\n",
        "fig, ax = plt.subplots(1, 2, figsize=(12, 6))\n",
        "im1 = ax[0].imshow(cov_empirical, cmap='coolwarm', aspect='auto', origin='lower')\n",
        "ax[0].set_title('Empirical Covariance')\n",
        "ax[0].set_xlabel('Time')\n",
        "ax[0].set_ylabel('Time')\n",
        "fig.colorbar(im1, ax=ax[0])\n",
        "\n",
        "cov_theoretical_s = theoretical_covariance_Specific(t, 0.5)\n",
        "im2 = ax[1].imshow(cov_theoretical_s, cmap='coolwarm', aspect='auto', origin='lower')\n",
        "ax[1].set_title('Theoretical Covariance')\n",
        "ax[1].set_xlabel('Time')\n",
        "ax[1].set_ylabel('Time')\n",
        "fig.colorbar(im2, ax=ax[1])\n",
        "\n",
        "plt.tight_layout()\n",
        "plt.show()\n",
        "cov_empirical = Specific_sim.visualizar_covarianza_empirica2()\n",
        "t = simulacion.eje_tiempo\n",
        "fig, ax = plt.subplots(1, 2, figsize=(12, 6))\n",
        "im1 = ax[0].imshow(cov_empirical, cmap='coolwarm')\n",
        "ax[0].set_title('Empirical Covariance')\n",
        "ax[0].set_xlabel('Time')\n",
        "ax[0].set_ylabel('Time')\n",
        "fig.colorbar(im1, ax=ax[0])\n",
        "\n",
        "cov_theoretical_s = theoretical_covariance_Specific(t, 0.5)\n",
        "im2 = ax[1].imshow(cov_theoretical_s, cmap='coolwarm')\n",
        "ax[1].set_title('Theoretical Covariance')\n",
        "ax[1].set_xlabel('Time')\n",
        "ax[1].set_ylabel('Time')\n",
        "fig.colorbar(im2, ax=ax[1])\n",
        "\n",
        "plt.tight_layout()\n",
        "plt.show()"
      ]
    },
    {
      "cell_type": "markdown",
      "metadata": {
        "id": "nr40BGl9lDOB"
      },
      "source": [
        "**Correlación**"
      ]
    },
    {
      "cell_type": "code",
      "execution_count": null,
      "metadata": {
        "id": "19L_kK3QlDOB"
      },
      "outputs": [],
      "source": [
        "def theoretical_correlation_Specific(t, alpha, lambda_):\n",
        "    cov_theoretical = theoretical_covariance_Specific(t, lambda_)\n",
        "    var_theoretical = theoretical_variance_Specific(t, alpha)\n",
        "    return cov_theoretical / np.sqrt(var_theoretical[:, None] * var_theoretical[None, :])\n",
        "t = simulacion.eje_tiempo\n",
        "corr_empirical = Specific_sim.visualizar_corr_empirica()\n",
        "corr_theoretical = theoretical_correlation_Specific(t, 0.5, 0.5)\n",
        "\n",
        "plt.imshow(corr_theoretical, cmap='coolwarm')\n",
        "plt.title('Theoretical Correlation')\n",
        "plt.xlabel('Time')\n",
        "plt.ylabel('Time')\n",
        "plt.colorbar()\n",
        "plt.tight_layout()\n",
        "plt.show()\n",
        "\n"
      ]
    },
    {
      "cell_type": "markdown",
      "metadata": {
        "id": "zW-yqG7zYZsw"
      },
      "source": [
        "## Conclusión Contrastes\n",
        "\n",
        "Cuando realizamos un número limitado de simulaciones, es común observar cierta variabilidad en los resultados empíricos en comparación con los valores teóricos esperados. Esta variabilidad puede atribuirse a la aleatoriedad inherente a cada simulación individual. Sin embargo, a medida que el número de simulaciones aumenta, la distribución de los resultados empíricos comienza a estabilizarse y converger hacia la distribución teórica subyacente del proceso estocástico modelado.\n",
        "\n",
        "Convergencia de la Media:\n",
        "Para la media empírica de las simulaciones, la convergencia hacia el valor esperado teórico es directamente apoyada por la LLN. A medida que aumenta el número de simulaciones, la media empírica se estabiliza y refleja con mayor precisión la media teórica del proceso, reduciendo el impacto de cualquier resultado atípicamente alto o bajo en el promedio.\n",
        "\n",
        "Convergencia de la Varianza:\n",
        "De manera similar, la varianza empírica de las simulaciones también tiende a converger hacia la varianza teórica a medida que aumenta el número de simulaciones. La varianza mide la dispersión de los resultados alrededor de la media. Con un número suficiente de simulaciones, obtenemos una representación más precisa de esta dispersión, ya que los resultados empíricos abarcan más completamente el rango de posibles resultados definidos por el modelo teórico.\n",
        "\n",
        "La razón por la cual observamos una convergencia significativa a partir de aproximadamente 100 simulaciones se debe a que, para muchos procesos estocásticos, este número de ensayos es suficiente para comenzar a mitigar el efecto de la variabilidad aleatoria en los resultados empíricos. No obstante, el número exacto de simulaciones necesarias para observar convergencia puede variar dependiendo de la complejidad del proceso estocástico modelado y de la precisión deseada para la estimación de los parámetros.\n"
      ]
    },
    {
      "cell_type": "markdown",
      "metadata": {
        "id": "nT1w0tOIb-lv"
      },
      "source": [
        "## Punto d\n",
        "\n",
        "Haciendo el análisis para 1 sola trayectoria:"
      ]
    },
    {
      "cell_type": "code",
      "execution_count": null,
      "metadata": {
        "id": "AII9r4PBdLUz"
      },
      "outputs": [],
      "source": [
        "#Geométrico\n",
        "all_values_flat = simulacion.posiciones.flatten()\n",
        "\n",
        "# Histograma de todos los valores de W_t\n",
        "plt.hist(all_values_flat, bins=50, alpha=0.5, color='blue', density=True)\n",
        "\n",
        "plt.title('Histograma Agregado de $W_t$ Geométrico')\n",
        "plt.xlabel('$W_t$')\n",
        "plt.ylabel('Densidad')\n",
        "plt.show()\n",
        "\n",
        "# Gráfico Q-Q para comparar con una distribución normal, usando los valores aplanados\n",
        "stats.probplot(all_values_flat, dist=\"lognorm\", sparams=(0.5,0.5), plot=plt)\n",
        "plt.title('Gráfico Q-Q Agregado de $W_t$ contra una distribución lognormal')\n",
        "plt.show()\n"
      ]
    },
    {
      "cell_type": "markdown",
      "metadata": {
        "id": "Bpg4Gw7Gh-GK"
      },
      "source": [
        "En este gráfico Q-Q, estamos evaluando los datos del movimiento Browniano geométrico en comparación con una distribución lognormal teórica. La línea roja representa la distribución lognormal ideal y los puntos azules representan los cuantiles observados de los datos.\n",
        "\n",
        "El gráfico muestra que en la parte central, los datos tienden a seguir la línea teórica lognormal, lo cual es esperado ya que el movimiento Browniano geométrico tiene una distribución lognormal inherente. Sin embargo, se nota una desviación notable en los extremos, en particular en el extremo superior del gráfico. Esto indica que los valores grandes de mis datos son más extremos de lo que la distribución lognormal teórica anticiparía.\n",
        "\n",
        "La concentración de puntos al final del gráfico sugiere que podría haber un sesgo en mis datos o posiblemente una varianza que no está siendo capturada completamente por el modelo lognormal teórico. Es importante considerar estos hallazgos al interpretar los resultados y al modelar los datos, ya que las colas pesadas o los eventos extremos pueden tener un impacto significativo en la modelación financiera y en la toma de decisiones basada en estos modelos."
      ]
    },
    {
      "cell_type": "code",
      "execution_count": null,
      "metadata": {
        "id": "vYCMWO8KdLkH"
      },
      "outputs": [],
      "source": [
        "#Bridge\n",
        "all_values_flat = Browniano_Bridge.posiciones.flatten()\n",
        "\n",
        "# Histograma de todos los valores de W_t\n",
        "plt.hist(all_values_flat, bins=50, alpha=0.7, color='blue', density=True)\n",
        "plt.hist(all_values_flat, bins=50, density=True, alpha=0.5, label='Data')\n",
        "\n",
        "# Plot probability density function of different distributions\n",
        "x = np.linspace(np.min(all_values_flat), np.max(all_values_flat), 100)\n",
        "plt.plot(x, scipy.stats.norm.pdf(x, np.mean(all_values_flat), np.std(all_values_flat)), label='Normal')\n",
        "plt.plot(x, scipy.stats.uniform.pdf(x, np.min(all_values_flat), np.max(all_values_flat) - np.min(all_values_flat)), label='Uniform')\n",
        "plt.plot(x, scipy.stats.expon.pdf(x, np.mean(all_values_flat)), label='Exponential')\n",
        "plt.plot(x, scipy.stats.expon.pdf(x, np.mean(all_values_flat)), label='Exponential')\n",
        "plt.title('Histograma Agregado de $W_t$ Bridge')\n",
        "plt.legend()\n",
        "plt.xlabel('$W_t$')\n",
        "plt.ylabel('Densidad')\n",
        "plt.show()\n",
        "\n",
        "\n",
        "\n",
        "# Gráfico Q-Q para comparar con una distribución normal, usando los valores aplanados\n",
        "stats.probplot(all_values_flat, dist=\"norm\", plot=plt)\n",
        "plt.title('Gráfico Q-Q Agregado de $W_t$ contra una distribución normal')\n",
        "plt.show()\n"
      ]
    },
    {
      "cell_type": "markdown",
      "metadata": {
        "id": "Znj1bdfThHy8"
      },
      "source": [
        "El gráfico Q-Q proporcionado compara los cuantiles teóricos de una distribución normal con los cuantiles de los datos observados, que representan el movimiento Browniano puente. La línea roja en el gráfico representa los valores teóricos de una distribución normal perfecta, y los puntos azules son los cuantiles observados de mis datos.\n",
        "\n",
        "Los puntos azules siguen de cerca la línea roja en el centro del gráfico, lo que indica que en el rango intermedio, mis datos se ajustan bien a una distribución normal. Sin embargo, en los extremos, especialmente en las colas de la distribución, hay una desviación significativa de la línea roja. Esto sugiere que los valores extremos de mis datos no siguen perfectamente una distribución normal. En las colas, los datos muestran una varianza más grande de lo que se esperaría en una distribución normal.\n",
        "\n",
        "Este comportamiento es típico en el contexto del movimiento Browniano puente, ya que los valores al inicio y al final del puente están fijados, lo cual puede causar un efecto de agrupamiento en los extremos que no se observaría en un proceso de movimiento Browniano estándar.\n",
        "\n",
        "En conclusión, los datos muestran una concordancia razonable con una distribución normal en el rango central, pero exhiben variaciones más significativas en los extremos. Esto es un atributo característico del comportamiento de los datos del movimiento Browniano puente y debe ser considerado al realizar inferencias estadísticas o al modelar estos datos."
      ]
    },
    {
      "cell_type": "code",
      "execution_count": null,
      "metadata": {
        "id": "INTTZdizb7kp"
      },
      "outputs": [],
      "source": [
        "#Especifico\n",
        "all_values_flat = specific_process.posiciones.flatten()\n",
        "\n",
        "# Histograma de todos los valores de W_t\n",
        "plt.hist(all_values_flat, bins=50, density=True, alpha=0.5, label='Data')\n",
        "\n",
        "\n",
        "# Plot probability density function of different distributions\n",
        "x = np.linspace(np.min(all_values_flat), np.max(all_values_flat), 100)\n",
        "plt.plot(x, scipy.stats.norm.pdf(x, np.mean(all_values_flat), np.std(all_values_flat)), label='Normal')\n",
        "plt.plot(x, scipy.stats.uniform.pdf(x, np.min(all_values_flat), np.max(all_values_flat) - np.min(all_values_flat)), label='Uniform')\n",
        "plt.plot(x, scipy.stats.expon.pdf(x, np.mean(all_values_flat)), label='Exponential')\n",
        "\n",
        "plt.xlim(-15,15)\n",
        "plt.title('Histograma Agregado de $W_t$')\n",
        "plt.xlabel('$W_t$')\n",
        "plt.ylabel('Densidad')\n",
        "plt.legend()\n",
        "plt.show()\n",
        "\n",
        "# Gráfico Q-Q para comparar con una distribución normal, usando los valores aplanados\n",
        "#stats.probplot(all_values_flat, dist=\"norm\", plot=plt)\n",
        "stats.probplot(all_values_flat, dist=\"expon\", sparams=(2.5,), plot=plt)\n",
        "plt.title('Gráfico Q-Q Agregado de $W_t$ contra una distribución exponencial')\n",
        "plt.show()\n"
      ]
    },
    {
      "cell_type": "markdown",
      "metadata": {
        "id": "LVvblUJnd-3j"
      },
      "source": [
        "Basandonos en el gráfico podríamos decir:\n",
        "\n",
        "**Desviaciones en los extremos (colas)**: Hay una desviación clara en los extremos de la distribución. Las colas de los datos (especialmente la izquierda) parecen ser más pesadas que las de una distribución normal. Esto se indica por la curvatura hacia abajo en el extremo izquierdo y hacia arriba en el extremo derecho del gráfico. Esto podría sugerir la presencia de valores atípicos o un fenómeno conocido como \"leptocurtosis\", que es una indicación de que la distribución tiene colas más pesadas que una distribución normal.\n",
        "\n",
        "**Desviación en el centro**: la línea de los datos parece seguir la línea roja teórica en el centro del gráfico, pero hay alguna desviación sistemática, especialmente en el medio. Esto puede ser una indicación de que la distribución central de los datos no es exactamente normal y puede estar sesgada o tener una curtosis diferente a la de la distribución normal.\n",
        "\n",
        "**Asimetría**: la desviación simétrica en las colas sugiere que la distribución de los datos es asimétrica. La curva más pronunciada hacia abajo en la cola izquierda que hacia arriba en la derecha sugiere una asimetría negativa, lo que significa que hay una tendencia a tener valores extremos más pequeños que lo esperado bajo la normalidad.\n",
        "\n",
        "**Conclusiones:** basándonos en este gráfico Q-Q, podríamos concluir que la distribución de los datos no sigue una distribución normal, especialmente en las colas. Esto es común en muchos procesos financieros y físicos donde la normalidad no siempre es una suposición válida, particularmente para los retornos financieros que a menudo muestran colas pesadas y asimetría.\n",
        "\n",
        "Podríamos decir que la distribución de los datos se aproxima a una exponencial."
      ]
    },
    {
      "cell_type": "markdown",
      "metadata": {
        "id": "KR46dULtcBAn"
      },
      "source": [
        "## Punto e\n",
        "\n",
        "Tras los estudios del punto 2a, donde tomabamos los valores teóricos, se ha determinado que no se ajusta a los criterios requeridos para ser clasificado como un Movimiento Browniano Estándar Unidimensional (MBEU). Las propiedades esenciales de un MBEU incluyen la independencia de los incrementos, la distribución normal de estos con media cero y varianza proporcional al incremento temporal, trayectorias continuas, y que el proceso comience en cero. Además, la evidencia obtenida a partir de los datos empíricos y el análisis estadístico revela desviaciones significativas respecto a estas propiedades fundamentales.\n",
        "\n",
        "En particular, la ausencia de centralidad en la distribución de los incrementos del proceso es una señal reveladora de que no estamos observando un comportamiento típico de un MBEU. Se esperaría que la media de los incrementos fuera cero para cualquier intervalo de tiempo seleccionado, reflejando así la propiedad de martingala del movimiento browniano, donde el valor esperado del proceso en el futuro, condicionado a la información presente, es igual al valor actual. Sin embargo, los incrementos observados muestran una media distinta de cero y una distribución asimétrica, lo que sugiere la influencia de tendencias o fuerzas sistemáticas que rompen con la suposición de independencia y distribución normal estándar.\n",
        "\n",
        "Además, se ha observado que las trayectorias del proceso carecen de la suavidad requerida, presentando discontinuidades que son incompatibles con la naturaleza continua de un MBEU. Esta característica es particularmente crítica, ya que la continuidad de las trayectorias es un pilar central en la definición de un movimiento browniano.\n",
        "\n",
        "Dadas estas discrepancias, se concluye que los procesos analizados no pueden modelarse adecuadamente como un MBEU. Esto nos obliga a buscar modelos estocásticos alternativos que capturen con mayor fidelidad las dinámicas subyacentes observadas. La elección de un modelo apropiado es crucial, ya que tiene implicaciones directas en la validez y precisión de las predicciones y en la formulación de estrategias basadas en dichos modelos.\n",
        "\n",
        "\n",
        "A continuación mostramos un análisis de independencia y se ve que no tiene media 0 y varianza t-s:\n",
        "\n",
        "**Geométrico**"
      ]
    },
    {
      "cell_type": "code",
      "source": [
        "simulacion.analizar_distribucion_incrementos()"
      ],
      "metadata": {
        "id": "w__XM2QQn3JQ"
      },
      "execution_count": null,
      "outputs": []
    },
    {
      "cell_type": "markdown",
      "source": [
        "**Bridge**"
      ],
      "metadata": {
        "id": "BfqVwHaJqRLq"
      }
    },
    {
      "cell_type": "code",
      "source": [
        "Browniano_Bridge.analizar_distribucion_incrementos()"
      ],
      "metadata": {
        "id": "kkNZ6HsxpjYu"
      },
      "execution_count": null,
      "outputs": []
    },
    {
      "cell_type": "markdown",
      "source": [
        "**Especifíco**"
      ],
      "metadata": {
        "id": "xt_2PWcdqT9K"
      }
    },
    {
      "cell_type": "code",
      "source": [
        "specific_process.analizar_distribucion_incrementos()"
      ],
      "metadata": {
        "id": "5PDEZiuMpuJu"
      },
      "execution_count": null,
      "outputs": []
    },
    {
      "cell_type": "markdown",
      "metadata": {
        "id": "xf8m1wHC_8-z"
      },
      "source": [
        "# Punto 3\n",
        "Demuestre mediante simulación computacional:\n",
        "\n",
        "Para $(s < t) y (B_t, B_s)$ dos Movimientos Brownianos Estándar, demuestre que $(B_s - \\frac{s}{t}B_t)$ y $(B_t)$ son independientes.\n",
        "\n",
        "Para formalizar y demostrar esta independencia, nos apoyamos en el criterio conocido de la función característica. La función característica conjunta de dos variables aleatorias independientes debe factorizarse en el producto de sus funciones características individuales. En nuestro caso, esto se expresa mediante la igualdad:\n",
        "\n",
        "$\\phi_{B_s, B_t}(u, v) = \\phi_{B_s}(u) \\cdot \\phi_{B_t}(v) = e^{-\\frac{1}{2}u^2s} \\cdot e^{-\\frac{1}{2}v^2t}$\n",
        "\n",
        "Esta ecuación establece la condición que debe cumplirse para afirmar la independencia entre $B_s - \\frac{s}{t}B_t$ y $B_t$. Sin embargo, para proporcionar una validación adicional y una comprensión más intuitiva, llevaremos a cabo una simulación computacional. A través de esta simulación, exploraremos múltiples realizaciones de las variables y evaluaremos la independencia mediante métricas específicas.\n"
      ]
    },
    {
      "cell_type": "code",
      "execution_count": null,
      "metadata": {
        "id": "RQDh523YXfSj"
      },
      "outputs": [],
      "source": [
        "import numpy as np\n",
        "import matplotlib.pyplot as plt\n",
        "\n",
        "def simulate_brownian_motion(n, t):\n",
        "    dt = t / n\n",
        "    dW = np.random.normal(0, np.sqrt(dt), n)\n",
        "    W = np.cumsum(dW)\n",
        "    return W\n",
        "\n",
        "def simulate_independence(s, t, n):\n",
        "    Ws = simulate_brownian_motion(n, s)\n",
        "    Wt = simulate_brownian_motion(n, t)\n",
        "    Bst = Ws - (s/t) * Wt\n",
        "    Bt = Wt\n",
        "\n",
        "    # Calcula la función de densidad de probabilidad conjunta\n",
        "    phi_Bs_Bt = np.exp(-0.5 * (Ws**2 * s + Wt**2 * t))\n",
        "\n",
        "    # Calcula la función de densidad de probabilidad individual\n",
        "    phi_Bs = np.exp(-0.5 * Ws**2 * s)\n",
        "    phi_Bt = np.exp(-0.5 * Wt**2 * t)\n",
        "\n",
        "    # Calcula el producto de las funciones de densidad de probabilidad individuales\n",
        "    phi_product = phi_Bs * phi_Bt\n",
        "\n",
        "    # Comprueba si las funciones de densidad de probabilidad conjunta y el producto son iguales\n",
        "    is_independent = np.allclose(phi_Bs_Bt, phi_product)\n",
        "\n",
        "    return is_independent, Bst, Bt\n",
        "\n",
        "# Parámetros  s<t\n",
        "s = np.random.randint(1,10)\n",
        "t = np.random.randint(11,20)\n",
        "n = 100000\n",
        "\n",
        "# Simula, gráfica y verifica independencia\n",
        "\n",
        "is_independent, Bs_s, Bt = simulate_independence(s, t, n)\n",
        "plt.scatter(Bs_s, Bt, alpha=0.5)\n",
        "plt.xlabel('Bs - s/t * Bt')\n",
        "plt.ylabel('Bt')\n",
        "plt.title('Simulación de la Independencia')\n",
        "plt.show()\n",
        "print(f\"¿(Bs−stBt) y (Bt) son independientes?: {is_independent}\")"
      ]
    },
    {
      "cell_type": "markdown",
      "metadata": {
        "id": "gBn7tCHh3hgX"
      },
      "source": [
        "El gráfico resultante es un scatter plot que muestra la relación entre las variables $(B_s - \\frac{s}{t}B_t)$ y $(B_t)$. Cada punto en el gráfico representa una realización de estas dos variables.\n",
        "\n",
        "Si las variables $(B_s - \\frac{s}{t}B_t)$ y $(B_t)$ son independientes, entonces no debería haber ninguna correlación aparente en el gráfico.\n",
        "En el gráfico no se observa ningún patrón por lo tanto podemos concluir que son independientes.\n",
        "\n",
        "\n",
        "**Conclusión:**\n",
        "\n",
        "La ausencia de un patrón en el gráfico y los resultados de la simulación respaldan la conclusión de que las variables $(B_s - \\frac{s}{t}B_t)$ y $(B_t)$ son independientes.\n",
        "La comprobación de la relación entre las funciones características también respalda la independencia entre ambas variables, cumpliendo con el criterio establecido.\n",
        "Este análisis reafirma la independencia entre $(B_s - \\frac{s}{t}B_t)$ y $(B_t)$, proporcionando una base teórica y empírica para respaldar esta afirmación. La aplicación del criterio de independencia y la simulación computacional fortalecen la validez de la conclusión obtenida."
      ]
    },
    {
      "cell_type": "markdown",
      "metadata": {
        "id": "9-4Ncnv__-4P"
      },
      "source": [
        "# Punto 4\n",
        "Asume que se desea jugar a la ruleta dentro de un casino\n",
        "siguiendo la estrategia de apuesta Martingala apostando 10 mil pesos consistentemente a una de dos\n",
        "opciones, donde dichas opciones obedecen a negro o rojo y cuentan con la misma probabilidad.\n",
        "\n",
        "Para cada escenario, llevaremos a cabo 500 simulaciones, explorando las propiedades distribucionales de la ganancia final y el número de apuestas. Además, demostraremos cómo el valor esperado del juego opera a favor del jugador y compararemos los resultados obtenidos en los tres casos. Finalmente, presentaremos visualmente los hallazgos a través de gráficos que ilustrarán la dinámica de la estrategia Martingala en cada situación planteada."
      ]
    },
    {
      "cell_type": "code",
      "execution_count": null,
      "metadata": {
        "id": "Al2-X2gwBQDd"
      },
      "outputs": [],
      "source": [
        "\n",
        "def martingale_game(start_amount, max_bets, stop_on_loss=True):\n",
        "    # Initialize variables\n",
        "    amount = start_amount\n",
        "    bet_amount = 10000  # La apuesta inicial es de 10 mil pesos\n",
        "    num_bets = 0\n",
        "\n",
        "    # Jugar el juego hasta que se acabe el dinero o se alcance el número máximo de apuestas\n",
        "    while num_bets < max_bets and amount > 0:\n",
        "        num_bets += 1\n",
        "        # Se elige aleatoriamente si gana o pierde el jugador\n",
        "        result = np.random.choice([-bet_amount, bet_amount])\n",
        "        # Realizar apuesta\n",
        "        amount += result\n",
        "\n",
        "        # Si se gana, se retira y termina la simulación\n",
        "        if result > 0:\n",
        "            break\n",
        "\n",
        "        # Si se pierde, se dobla la apuesta, si se gana, se reinicia a la apuesta inicial\n",
        "        bet_amount = bet_amount if amount <= 0 or result > 0 else min(amount, bet_amount * 2)\n",
        "\n",
        "        # Si se pierde y stop_on_loss es True, acabar el juego\n",
        "        if stop_on_loss and result < 0:\n",
        "            break\n",
        "\n",
        "    return amount, num_bets\n",
        "\n",
        "def simulate_martingale(start_amount, max_bets, stop_on_loss, num_trials):\n",
        "    final_amounts = []  # Cantidades Finales\n",
        "    num_bets_list = []  # Numero de apuestas de cada juego\n",
        "\n",
        "    for _ in range(num_trials):\n",
        "        amount, num_bets = martingale_game(start_amount, max_bets, stop_on_loss)\n",
        "        final_amounts.append(amount)\n",
        "        num_bets_list.append(num_bets)\n",
        "\n",
        "    return final_amounts, num_bets_list\n",
        "\n",
        "# Variables de los escenarios\n",
        "scenarios = {\n",
        "    'a': (500000, 50),\n",
        "    'b': (500000, float('inf')),\n",
        "    'c': (500000000, float('inf')),\n",
        "}\n",
        "\n",
        "# Simulación y análisis para cada escenario\n"
      ]
    },
    {
      "cell_type": "markdown",
      "metadata": {
        "id": "o0Exbg1qBAl4"
      },
      "source": [
        "Para demostrar que la esperanza está a favor del jugador, debemos mostrar que el valor esperado es positivo.\n",
        "\n",
        "Si el valor esperado es positivo, indica que, en promedio, el jugador termina con más dinero del que comenzó, lo que significa que el juego opera a favor del jugador. Al repetir la simulación múltiples veces (500), la tendencia general debería reflejarse en la media de las cantidades finales y, por lo tanto, en el valor esperado."
      ]
    },
    {
      "cell_type": "code",
      "execution_count": null,
      "metadata": {
        "id": "VLxDXWqAA9ib"
      },
      "outputs": [],
      "source": [
        "for scenario_label, (start_amount, max_bets) in scenarios.items():\n",
        "    # Simular el juego 500 veces\n",
        "    final_amounts, num_bets_list = simulate_martingale(start_amount, max_bets, stop_on_loss=False, num_trials=500)\n",
        "\n",
        "    # Analizar resultados\n",
        "    mean_final_amount = np.mean(final_amounts)\n",
        "    var_final_amount = np.var(final_amounts)\n",
        "    mean_num_bets = np.mean(num_bets_list)\n",
        "    var_num_bets = np.var(num_bets_list)\n",
        "\n",
        "    expected_value = mean_final_amount - start_amount\n",
        "\n",
        "    # Graficar histogramas\n",
        "    plt.figure(figsize=(14, 6))\n",
        "    plt.subplot(1, 2, 1)\n",
        "    plt.hist(final_amounts, bins=30, color='blue', edgecolor='black')\n",
        "    plt.title(f'Histograma de Cantidades Finales para Escenario {scenario_label}')\n",
        "    plt.xlabel('Cantidad Final')\n",
        "    plt.ylabel('Frecuencia')\n",
        "\n",
        "    # Histograma de Número de Apuestas\n",
        "    plt.subplot(1, 2, 2)\n",
        "    plt.hist(num_bets_list, bins=30, color='green', edgecolor='black')\n",
        "    plt.title(f'Histograma de Número de Apuestas para Escenario {scenario_label}')\n",
        "    plt.xlabel('Número de Apuestas')\n",
        "    plt.ylabel('Frecuencia')\n",
        "\n",
        "    plt.tight_layout()\n",
        "    plt.show()\n",
        "\n",
        "    print(f\"Escenario {scenario_label}:\")\n",
        "    print(f\"  Media de la Cantidad Final: {mean_final_amount}\")\n",
        "    print(f\"  Varianza de la cantidad final: {var_final_amount}\")\n",
        "    print(f\"  Media del Número de Apuestas: {mean_num_bets}\")\n",
        "    print(f\"  Varianza del Número de Apuestas: {var_num_bets}\")\n",
        "    print(f\"  Valor Esperado: {expected_value}\\n\")\n",
        "\n"
      ]
    },
    {
      "cell_type": "markdown",
      "metadata": {
        "id": "IXYVRTXgQZMz"
      },
      "source": [
        "# **Análisis escenario a:**\n",
        "\n",
        "Para el escenario **a** se puede observar un valor esperado diferente para cada simulación pero **no siempre un valor esperado positivo**,\n",
        "lo que demuestra que la estrategia de Martingala en este escenario no siempre favorece al jugador. Esto se debe a que, aunque la Martingala puede generar ganancias ocasionalmente, su naturaleza arriesgada y su dependencia del azar pueden llevar a pérdidas significativas.\n",
        "\n",
        "En una simulación especifica se obtuvo las siguientes propiedades distribucionales:\n",
        "\n",
        "\n",
        "```\n",
        "Media de la Cantidad Final: 499000.0\n",
        "Varianza de la cantidad final: 4797400000.0\n",
        "Media del Número de Apuestas: 2.024\n",
        "Varianza del Número de Apuestas: 1.739424\n",
        "Valor Esperado: -1000.0\n",
        "```\n",
        "\n",
        "La media de la cantidad final sugiere que, en promedio, el jugador termina con una cantidad ligeramente inferior al monto inicial. La varianza indica la dispersión de los resultados. El valor esperado negativo de -1000.0 refleja la pérdida promedio por juego, subrayando que la estrategia no es sosteniblemente favorable.\n",
        "\n",
        "\n",
        "# **Análisis escenario b:**\n",
        "\n",
        "Para el escenario **b** se puede observar un valor esperado diferente para cada simulación pero **no siempre un valor esperado positivo** para el jugador,\n",
        "demostrando que la estrategia de Martingala en este caso también puede llevar a pérdidas en promedio. Aunque puede haber rachas de victorias, la varianza en los resultados y el valor esperado negativo indican riesgos significativos.\n",
        "\n",
        "En una simulación especifica se obtuvo las siguientes propiedades distribucionales:\n",
        "\n",
        "```\n",
        "Media de la Cantidad Final: 493600.0\n",
        "Varianza de la cantidad final: 6514240000.0\n",
        "Media del Número de Apuestas: 2.09\n",
        "Varianza del Número de Apuestas: 2.0858999999999996\n",
        "Valor Esperado: -6400.0\n",
        "```\n",
        "\n",
        "La media y la varianza siguen indicando una tendencia hacia pérdidas, y el valor esperado negativo de -6400.0 subraya nuevamente que la estrategia puede resultar desfavorable para el jugador.\n",
        "\n",
        "# **Análisis escenario c:**\n",
        "\n",
        "En el escenario **c** a diferencia de los escenarios anterior, se obtuvo un valor esperado constante, siempre positivo para el jugador de **10000**\n",
        "Esto indica que, bajo las condiciones específicas del escenario **c**, la estrategia de Martingala parece favorecer consistentemente al jugador.\n",
        "\n"
      ]
    }
  ],
  "metadata": {
    "colab": {
      "provenance": [],
      "include_colab_link": true
    },
    "kernelspec": {
      "display_name": "Python 3",
      "name": "python3"
    },
    "language_info": {
      "codemirror_mode": {
        "name": "ipython",
        "version": 3
      },
      "file_extension": ".py",
      "mimetype": "text/x-python",
      "name": "python",
      "nbconvert_exporter": "python",
      "pygments_lexer": "ipython3",
      "version": "3.11.5"
    }
  },
  "nbformat": 4,
  "nbformat_minor": 0
}